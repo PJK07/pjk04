{
 "cells": [
  {
   "cell_type": "markdown",
   "id": "7a207c9b-2a49-48cc-9264-5bd217241bf0",
   "metadata": {},
   "source": [
    "# Data Science Tools and Ecosystem"
   ]
  },
  {
   "cell_type": "markdown",
   "id": "61420d4a-79ad-4b05-9b99-2ab37ebe1bfa",
   "metadata": {},
   "source": [
    "In this notebook, Data Science Tools and Ecosystem are summarized."
   ]
  },
  {
   "cell_type": "markdown",
   "id": "e34174cc-a9ed-44a3-8d68-5ccef4d966d5",
   "metadata": {},
   "source": [
    "Some of the popular languages that Data Scientists use are:\n",
    "1. Python\n",
    "2. R\n",
    "3. SQL\n",
    "4. Scala\n",
    "5. Java"
   ]
  },
  {
   "cell_type": "markdown",
   "id": "de9d0968-6e3b-4b56-b098-b74a8c66f2d9",
   "metadata": {},
   "source": [
    "Some of the commonly used libraries used by Data Scientists include:\n",
    "1. Pandas\n",
    "2. NumPy\n",
    "3. SciPy\n",
    "4. Matplotlib\n",
    "5. Seaborn"
   ]
  },
  {
   "cell_type": "markdown",
   "id": "ca72d2af-44fd-45aa-b938-00782ed88174",
   "metadata": {},
   "source": [
    "|Data Science Tools|\n",
    "------------------\n",
    "|Anaconda|\n",
    "|Jupiter Notebook|\n",
    "|Git|"
   ]
  },
  {
   "cell_type": "markdown",
   "id": "66201540-5cc2-43aa-9e38-b681f15ff8ff",
   "metadata": {},
   "source": [
    "### Below are a few examples of evaluating arithmetic expressions in Python."
   ]
  },
  {
   "cell_type": "code",
   "execution_count": 5,
   "id": "e72395c1-8f50-4681-a972-80668c2640e1",
   "metadata": {},
   "outputs": [
    {
     "data": {
      "text/plain": [
       "17"
      ]
     },
     "execution_count": 5,
     "metadata": {},
     "output_type": "execute_result"
    }
   ],
   "source": [
    "# This a simple arithmetic expression to mutiply then add integers\n",
    "(3*4)+5"
   ]
  },
  {
   "cell_type": "code",
   "execution_count": 6,
   "id": "37c183eb-17cb-4e65-80a0-f11e984fe998",
   "metadata": {
    "scrolled": true
   },
   "outputs": [
    {
     "data": {
      "text/plain": [
       "3.3333333333333335"
      ]
     },
     "execution_count": 6,
     "metadata": {},
     "output_type": "execute_result"
    }
   ],
   "source": [
    "# This will convert 200 minutes to hours by diving by 60\n",
    "200/60"
   ]
  },
  {
   "cell_type": "markdown",
   "id": "6024bb67-1083-4d19-95ec-501521ab8f84",
   "metadata": {},
   "source": [
    "**Objectives:**\n",
    "+ In this notebook, Data Science Tools and Ecosystem are summarized.\n",
    "+ Some of the popular languages that Data Scientists use\n",
    "+ Some of the commonly used libraries used by Data Scientists"
   ]
  },
  {
   "cell_type": "markdown",
   "id": "4d9898d1-a7ee-462f-8347-a206826457b1",
   "metadata": {},
   "source": [
    "## Authors\n",
    "Paul Kallas"
   ]
  },
  {
   "cell_type": "code",
   "execution_count": null,
   "id": "172e0cb8-67b3-4b18-8495-e7b9d38ef934",
   "metadata": {},
   "outputs": [],
   "source": []
  }
 ],
 "metadata": {
  "kernelspec": {
   "display_name": "Python 3 (ipykernel)",
   "language": "python",
   "name": "python3"
  },
  "language_info": {
   "codemirror_mode": {
    "name": "ipython",
    "version": 3
   },
   "file_extension": ".py",
   "mimetype": "text/x-python",
   "name": "python",
   "nbconvert_exporter": "python",
   "pygments_lexer": "ipython3",
   "version": "3.11.7"
  }
 },
 "nbformat": 4,
 "nbformat_minor": 5
}
